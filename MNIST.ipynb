{
 "cells": [
  {
   "cell_type": "code",
   "execution_count": 1,
   "metadata": {},
   "outputs": [],
   "source": [
    "import numpy as np\n",
    "import pandas as pd\n",
    "import matplotlib.pyplot as plt\n",
    "\n",
    "from sklearn.model_selection import train_test_split\n",
    "from sklearn import metrics\n",
    "\n",
    "import torch\n",
    "from torch.utils.data import TensorDataset\n",
    "from torch.utils.data import Dataset \n",
    "from torch.utils.data import DataLoader \n",
    "\n",
    "from torchvision import transforms "
   ]
  },
  {
   "cell_type": "code",
   "execution_count": 2,
   "metadata": {},
   "outputs": [
    {
     "data": {
      "text/html": [
       "<div>\n",
       "<style scoped>\n",
       "    .dataframe tbody tr th:only-of-type {\n",
       "        vertical-align: middle;\n",
       "    }\n",
       "\n",
       "    .dataframe tbody tr th {\n",
       "        vertical-align: top;\n",
       "    }\n",
       "\n",
       "    .dataframe thead th {\n",
       "        text-align: right;\n",
       "    }\n",
       "</style>\n",
       "<table border=\"1\" class=\"dataframe\">\n",
       "  <thead>\n",
       "    <tr style=\"text-align: right;\">\n",
       "      <th></th>\n",
       "      <th>label</th>\n",
       "      <th>pixel0</th>\n",
       "      <th>pixel1</th>\n",
       "      <th>pixel2</th>\n",
       "      <th>pixel3</th>\n",
       "      <th>pixel4</th>\n",
       "      <th>pixel5</th>\n",
       "      <th>pixel6</th>\n",
       "      <th>pixel7</th>\n",
       "      <th>pixel8</th>\n",
       "      <th>...</th>\n",
       "      <th>pixel774</th>\n",
       "      <th>pixel775</th>\n",
       "      <th>pixel776</th>\n",
       "      <th>pixel777</th>\n",
       "      <th>pixel778</th>\n",
       "      <th>pixel779</th>\n",
       "      <th>pixel780</th>\n",
       "      <th>pixel781</th>\n",
       "      <th>pixel782</th>\n",
       "      <th>pixel783</th>\n",
       "    </tr>\n",
       "  </thead>\n",
       "  <tbody>\n",
       "    <tr>\n",
       "      <th>0</th>\n",
       "      <td>1</td>\n",
       "      <td>0</td>\n",
       "      <td>0</td>\n",
       "      <td>0</td>\n",
       "      <td>0</td>\n",
       "      <td>0</td>\n",
       "      <td>0</td>\n",
       "      <td>0</td>\n",
       "      <td>0</td>\n",
       "      <td>0</td>\n",
       "      <td>...</td>\n",
       "      <td>0</td>\n",
       "      <td>0</td>\n",
       "      <td>0</td>\n",
       "      <td>0</td>\n",
       "      <td>0</td>\n",
       "      <td>0</td>\n",
       "      <td>0</td>\n",
       "      <td>0</td>\n",
       "      <td>0</td>\n",
       "      <td>0</td>\n",
       "    </tr>\n",
       "    <tr>\n",
       "      <th>1</th>\n",
       "      <td>0</td>\n",
       "      <td>0</td>\n",
       "      <td>0</td>\n",
       "      <td>0</td>\n",
       "      <td>0</td>\n",
       "      <td>0</td>\n",
       "      <td>0</td>\n",
       "      <td>0</td>\n",
       "      <td>0</td>\n",
       "      <td>0</td>\n",
       "      <td>...</td>\n",
       "      <td>0</td>\n",
       "      <td>0</td>\n",
       "      <td>0</td>\n",
       "      <td>0</td>\n",
       "      <td>0</td>\n",
       "      <td>0</td>\n",
       "      <td>0</td>\n",
       "      <td>0</td>\n",
       "      <td>0</td>\n",
       "      <td>0</td>\n",
       "    </tr>\n",
       "    <tr>\n",
       "      <th>2</th>\n",
       "      <td>1</td>\n",
       "      <td>0</td>\n",
       "      <td>0</td>\n",
       "      <td>0</td>\n",
       "      <td>0</td>\n",
       "      <td>0</td>\n",
       "      <td>0</td>\n",
       "      <td>0</td>\n",
       "      <td>0</td>\n",
       "      <td>0</td>\n",
       "      <td>...</td>\n",
       "      <td>0</td>\n",
       "      <td>0</td>\n",
       "      <td>0</td>\n",
       "      <td>0</td>\n",
       "      <td>0</td>\n",
       "      <td>0</td>\n",
       "      <td>0</td>\n",
       "      <td>0</td>\n",
       "      <td>0</td>\n",
       "      <td>0</td>\n",
       "    </tr>\n",
       "    <tr>\n",
       "      <th>3</th>\n",
       "      <td>4</td>\n",
       "      <td>0</td>\n",
       "      <td>0</td>\n",
       "      <td>0</td>\n",
       "      <td>0</td>\n",
       "      <td>0</td>\n",
       "      <td>0</td>\n",
       "      <td>0</td>\n",
       "      <td>0</td>\n",
       "      <td>0</td>\n",
       "      <td>...</td>\n",
       "      <td>0</td>\n",
       "      <td>0</td>\n",
       "      <td>0</td>\n",
       "      <td>0</td>\n",
       "      <td>0</td>\n",
       "      <td>0</td>\n",
       "      <td>0</td>\n",
       "      <td>0</td>\n",
       "      <td>0</td>\n",
       "      <td>0</td>\n",
       "    </tr>\n",
       "    <tr>\n",
       "      <th>4</th>\n",
       "      <td>0</td>\n",
       "      <td>0</td>\n",
       "      <td>0</td>\n",
       "      <td>0</td>\n",
       "      <td>0</td>\n",
       "      <td>0</td>\n",
       "      <td>0</td>\n",
       "      <td>0</td>\n",
       "      <td>0</td>\n",
       "      <td>0</td>\n",
       "      <td>...</td>\n",
       "      <td>0</td>\n",
       "      <td>0</td>\n",
       "      <td>0</td>\n",
       "      <td>0</td>\n",
       "      <td>0</td>\n",
       "      <td>0</td>\n",
       "      <td>0</td>\n",
       "      <td>0</td>\n",
       "      <td>0</td>\n",
       "      <td>0</td>\n",
       "    </tr>\n",
       "  </tbody>\n",
       "</table>\n",
       "<p>5 rows × 785 columns</p>\n",
       "</div>"
      ],
      "text/plain": [
       "   label  pixel0  pixel1  pixel2  pixel3  pixel4  pixel5  pixel6  pixel7  \\\n",
       "0      1       0       0       0       0       0       0       0       0   \n",
       "1      0       0       0       0       0       0       0       0       0   \n",
       "2      1       0       0       0       0       0       0       0       0   \n",
       "3      4       0       0       0       0       0       0       0       0   \n",
       "4      0       0       0       0       0       0       0       0       0   \n",
       "\n",
       "   pixel8  ...  pixel774  pixel775  pixel776  pixel777  pixel778  pixel779  \\\n",
       "0       0  ...         0         0         0         0         0         0   \n",
       "1       0  ...         0         0         0         0         0         0   \n",
       "2       0  ...         0         0         0         0         0         0   \n",
       "3       0  ...         0         0         0         0         0         0   \n",
       "4       0  ...         0         0         0         0         0         0   \n",
       "\n",
       "   pixel780  pixel781  pixel782  pixel783  \n",
       "0         0         0         0         0  \n",
       "1         0         0         0         0  \n",
       "2         0         0         0         0  \n",
       "3         0         0         0         0  \n",
       "4         0         0         0         0  \n",
       "\n",
       "[5 rows x 785 columns]"
      ]
     },
     "execution_count": 2,
     "metadata": {},
     "output_type": "execute_result"
    }
   ],
   "source": [
    "df = pd.read_csv('~/data/digit-recognizer/train.csv')\n",
    "df_test = pd.read_csv('~/data/digit-recognizer/test.csv')\n",
    "df.head()"
   ]
  },
  {
   "cell_type": "code",
   "execution_count": 18,
   "metadata": {},
   "outputs": [
    {
     "name": "stdout",
     "output_type": "stream",
     "text": [
      "torch.Size([33600, 1, 28, 28]) torch.Size([33600]) torch.Size([8400, 1, 28, 28]) torch.Size([8400])\n",
      "torch.Size([100, 1, 28, 28])\n"
     ]
    }
   ],
   "source": [
    "# Train-test split and converting to torch.Tensor\n",
    "\n",
    "X = df.iloc[:, 1:].values.reshape((-1,1,28,28))\n",
    "y = df.iloc[:, 0].values\n",
    "\n",
    "# X = X[:1000]\n",
    "# y = y[:1000]\n",
    "\n",
    "X_train, X_val, y_train, y_val = train_test_split(X, y, train_size=0.80)\n",
    "X_train, y_train, X_val, y_val = map(\n",
    "    torch.tensor, (X_train, y_train, X_val, y_val)\n",
    ")\n",
    "\n",
    "# Convert from tensor.Long to tensor.Float\n",
    "X_train = X_train.float()\n",
    "X_val = X_val.float()\n",
    "\n",
    "X_test = df_test.values.reshape((-1,1,28,28))\n",
    "X_test = torch.tensor(X_test).float()\n",
    "\n",
    "X_test = X_test[:100]\n",
    "\n",
    "print(X_train.shape, y_train.shape, X_val.shape, y_val.shape)\n",
    "print(X_test.shape)"
   ]
  },
  {
   "cell_type": "code",
   "execution_count": 8,
   "metadata": {},
   "outputs": [],
   "source": [
    "def show_random_digits(X, y):\n",
    "    # Show some images\n",
    "    fig = plt.figure(figsize=(10,10))\n",
    "    colsize = 3\n",
    "    rowsize = 3\n",
    "    for i in range(1, colsize*rowsize +1):\n",
    "        fig.add_subplot(colsize, rowsize, i)\n",
    "        num = np.random.randint(0, len(X))\n",
    "        plt.title(str(y[num].item()))\n",
    "        plt.imshow(X[num].resize(28,28))\n",
    "\n",
    "    plt.show()"
   ]
  },
  {
   "cell_type": "code",
   "execution_count": 9,
   "metadata": {},
   "outputs": [
    {
     "data": {
      "image/png": "[encoded data removed]",
      "text/plain": [
       "<Figure size 720x720 with 9 Axes>"
      ]
     },
     "metadata": {
      "needs_background": "light"
     },
     "output_type": "display_data"
    }
   ],
   "source": [
    "show_random_digits(X_train, y_train)"
   ]
  },
  {
   "cell_type": "code",
   "execution_count": 10,
   "metadata": {},
   "outputs": [],
   "source": [
    "class Flatten(torch.nn.Module):\n",
    "    def forward(self, input):\n",
    "        return input.view(input.size(0), -1)"
   ]
  },
  {
   "cell_type": "code",
   "execution_count": 11,
   "metadata": {},
   "outputs": [],
   "source": [
    "# Input (N images) N x 1 x 28 x 28  (1 channel (grayscale))\n",
    "# Output N x 2\n",
    "model = torch.nn.Sequential(\n",
    "    # N x 1 x 28 x 28\n",
    "    torch.nn.Conv2d(in_channels=1, out_channels=32, kernel_size=(3,3)),\n",
    "    # N x 32 x 26 x 26\n",
    "    torch.nn.BatchNorm2d(32),\n",
    "    torch.nn.ReLU(),\n",
    "    torch.nn.MaxPool2d((2,2)),\n",
    "    # N x 32 x 13 x 13\n",
    "    torch.nn.Conv2d(in_channels=32, out_channels=64, kernel_size=(3,3)),\n",
    "    # N x 64 x 11 x 11\n",
    "    torch.nn.BatchNorm2d(64),\n",
    "    torch.nn.ReLU(),\n",
    "    torch.nn.MaxPool2d((2,2)),\n",
    "    # N x 64 x 5 x 5\n",
    "    Flatten(),\n",
    "    # N x 1600\n",
    "    torch.nn.Linear(1600, 512),\n",
    "    # N x 512\n",
    "    torch.nn.BatchNorm1d(512),\n",
    "    torch.nn.ReLU(),\n",
    "    torch.nn.Linear(512, 10),\n",
    "    # N x 10\n",
    "    torch.nn.Sigmoid(),\n",
    "    # N x 10\n",
    "    torch.nn.Softmax(dim = 1)\n",
    ")\n",
    "optimizer = torch.optim.SGD(model.parameters(), lr=1, momentum=0.9)\n",
    "criterion = torch.nn.CrossEntropyLoss()"
   ]
  },
  {
   "cell_type": "code",
   "execution_count": 12,
   "metadata": {},
   "outputs": [],
   "source": [
    "# Create combined dataset\n",
    "\n",
    "train_ds = TensorDataset(X_train, y_train)\n",
    "val_ds = TensorDataset(X_val, y_val)\n",
    "\n",
    "# Create dataloader\n",
    "train_dl = DataLoader(train_ds, batch_size=64, shuffle=True)\n",
    "val_dl = DataLoader(val_ds, batch_size=64)"
   ]
  },
  {
   "cell_type": "code",
   "execution_count": 9,
   "metadata": {},
   "outputs": [],
   "source": [
    "# Train\n",
    "def train(load_model = False):\n",
    "    if load_model:\n",
    "        model.load_state_dict(torch.load('../models/mnist.pth'))\n",
    "        model.eval()\n",
    "        print('Model loaded')\n",
    "    \n",
    "    train_accs = np.empty(0)\n",
    "    val_accs = np.empty(0)\n",
    "    epochs = 5\n",
    "    tot_itr = 2000\n",
    "    for epoch in range(epochs):\n",
    "        print('Epoch == ', epoch)\n",
    "        for X, Y in train_dl:\n",
    "            yhat = model(X)\n",
    "            # yhat: N x 10\n",
    "            # Y: N\n",
    "            loss = criterion(yhat, Y)\n",
    "            # zero the parameter gradients\n",
    "            optimizer.zero_grad()\n",
    "            \n",
    "            loss.backward()\n",
    "            optimizer.step()\n",
    "\n",
    "        # Calculate accuracy at the end of each epoch\n",
    "        pred = torch.argmax(model(X_train), dim = 1).data\n",
    "        train_acc = metrics.accuracy_score(pred, y_train)\n",
    "        \n",
    "        pred = torch.argmax(model(X_val), dim = 1).data\n",
    "        val_acc = metrics.accuracy_score(pred, y_val)\n",
    "        \n",
    "        train_accs = np.append(train_accs, train_acc)\n",
    "        val_accs = np.append(val_accs, val_acc)\n",
    "        print('Accuracy train', train_acc, 'Accuracy val:', val_acc)\n",
    "    \n",
    "    # Save the trained model\n",
    "    torch.save(model.state_dict(), '../models/mnist.pth')\n",
    "    print('Model saved')\n",
    "    \n",
    "    plt.xlabel('Epochs')\n",
    "    plt.ylim(0, 1)\n",
    "    plt.plot(np.arange(len(train_accs)), train_accs, label='Training Accuracy')\n",
    "    plt.plot(np.arange(len(val_accs)), val_accs, label='Validation Accuracy')\n",
    "    plt.legend()\n",
    "    plt.show()"
   ]
  },
  {
   "cell_type": "code",
   "execution_count": 13,
   "metadata": {},
   "outputs": [],
   "source": [
    "def test():\n",
    "    # Load the model\n",
    "    model.load_state_dict(torch.load('../models/mnist.pth'))\n",
    "    model.eval()\n",
    "    print('Model loaded')\n",
    "    \n",
    "    y_pred = torch.argmax(model(X_test), dim = 1)\n",
    "    return y_pred"
   ]
  },
  {
   "cell_type": "code",
   "execution_count": 14,
   "metadata": {},
   "outputs": [],
   "source": [
    "def show_first_layer_weights():\n",
    "    # Load the model\n",
    "    model.load_state_dict(torch.load('../models/mnist.pth'))\n",
    "    model.eval()\n",
    "    print('Model loaded')\n",
    "    \n",
    "    # Show some filters\n",
    "    fig = plt.figure(figsize=(10,10))\n",
    "    colsize = 8\n",
    "    rowsize = 4\n",
    "    for i in range(1, min(colsize*rowsize, model[0].weight.shape[0]) + 1):\n",
    "        fig.add_subplot(colsize, rowsize, i)\n",
    "        plt.imshow(model[0].weight[i-1][0].data.numpy())\n",
    "\n",
    "    plt.show()"
   ]
  },
  {
   "cell_type": "code",
   "execution_count": 15,
   "metadata": {},
   "outputs": [],
   "source": [
    "def get_incorrect(X, y, pred):\n",
    "    df_inc = pd.DataFrame({'indices': np.arange(len(y)), 'y': y, 'p': pred})\n",
    "    df_inc = df_inc[df_inc['y'] != df_inc['p']]\n",
    "    return df_inc['indices'].values    "
   ]
  },
  {
   "cell_type": "code",
   "execution_count": null,
   "metadata": {},
   "outputs": [
    {
     "name": "stdout",
     "output_type": "stream",
     "text": [
      "Epoch ==  0\n"
     ]
    },
    {
     "name": "stderr",
     "output_type": "stream",
     "text": [
      "/home/shashwat/Applications/pytorch/torch/csrc/utils/python_arg_parser.cpp:698: UserWarning: This overload of add_ is deprecated:\n",
      "\tadd_(Number alpha, Tensor other)\n",
      "Consider using one of the following signatures instead:\n",
      "\tadd_(Tensor other, Number alpha)\n",
      "  TORCH_WARN_ONCE(msg);\n"
     ]
    }
   ],
   "source": [
    "train(False)"
   ]
  },
  {
   "cell_type": "code",
   "execution_count": 19,
   "metadata": {},
   "outputs": [
    {
     "name": "stdout",
     "output_type": "stream",
     "text": [
      "Model loaded\n",
      "torch.Size([100, 1, 28, 28]) torch.Size([100])\n"
     ]
    },
    {
     "data": {
      "image/png": "[encoded data removed]",
      "text/plain": [
       "<Figure size 720x720 with 9 Axes>"
      ]
     },
     "metadata": {
      "needs_background": "light"
     },
     "output_type": "display_data"
    }
   ],
   "source": [
    "# Show some predictions\n",
    "\n",
    "pred = test()\n",
    "print(X_test.shape, pred.shape)\n",
    "show_random_digits(X_test, pred)"
   ]
  },
  {
   "cell_type": "code",
   "execution_count": 20,
   "metadata": {},
   "outputs": [
    {
     "name": "stdout",
     "output_type": "stream",
     "text": [
      "Accuracy val 0.9989285714285714\n"
     ]
    },
    {
     "data": {
      "image/png": "[encoded data removed]",
      "text/plain": [
       "<Figure size 720x720 with 9 Axes>"
      ]
     },
     "metadata": {
      "needs_background": "light"
     },
     "output_type": "display_data"
    }
   ],
   "source": [
    "# Check incorrect predictions in validation set\n",
    "pred = torch.argmax(model(X_val), dim = 1).data\n",
    "print('Accuracy val', metrics.accuracy_score(pred, y_val))\n",
    "ind = get_incorrect(X_val, y_val, pred)\n",
    "show_random_digits(X_val[ind], pred[ind])"
   ]
  },
  {
   "cell_type": "code",
   "execution_count": 21,
   "metadata": {},
   "outputs": [
    {
     "name": "stdout",
     "output_type": "stream",
     "text": [
      "Model loaded\n"
     ]
    },
    {
     "data": {
      "image/png": "[encoded data removed]",
      "text/plain": [
       "<Figure size 720x720 with 32 Axes>"
      ]
     },
     "metadata": {
      "needs_background": "light"
     },
     "output_type": "display_data"
    }
   ],
   "source": [
    "show_first_layer_weights()"
   ]
  },
  {
   "cell_type": "code",
   "execution_count": 13,
   "metadata": {},
   "outputs": [
    {
     "data": {
      "text/plain": [
       "torch.Size([100, 1, 28, 28])"
      ]
     },
     "execution_count": 13,
     "metadata": {},
     "output_type": "execute_result"
    }
   ],
   "source": [
    "X_test.shape"
   ]
  },
  {
   "cell_type": "code",
   "execution_count": 43,
   "metadata": {},
   "outputs": [],
   "source": [
    "df_out = pd.DataFrame({'ImageID': np.arange(pred.size()[0]) + 1, 'Label': pred.data})\n",
    "df_out.head()\n",
    "df_out.set_index('ImageID', inplace=True)\n",
    "df_out.to_csv('mnist_out.csv')"
   ]
  },
  {
   "cell_type": "code",
   "execution_count": 40,
   "metadata": {},
   "outputs": [
    {
     "data": {
      "text/plain": [
       "tensor([2, 0, 9, 9, 3, 9, 0, 3, 0, 3, 5, 9, 4, 0, 4, 3, 3, 1, 9, 0, 9, 1, 1, 5,\n",
       "        9, 4, 2, 9, 4, 9, 9, 5, 4, 2, 9, 2, 5, 5, 1, 0, 9, 9, 4, 9, 8, 3, 8, 2,\n",
       "        0, 3, 9, 8, 8, 3, 8, 2, 1, 2, 4, 0, 4, 1, 9, 0, 0, 0, 1, 9, 0, 1, 9, 5,\n",
       "        8, 8, 2, 8, 9, 9, 2, 3, 5, 4, 1, 0, 9, 2, 4, 3, 9, 9, 2, 0, 9, 9, 1, 4,\n",
       "        3, 9, 9, 4])"
      ]
     },
     "execution_count": 40,
     "metadata": {},
     "output_type": "execute_result"
    }
   ],
   "source": [
    "pred.data"
   ]
  },
  {
   "cell_type": "code",
   "execution_count": null,
   "metadata": {},
   "outputs": [],
   "source": []
  }
 ],
 "metadata": {
  "kernelspec": {
   "display_name": "Python 3.6.9 64-bit",
   "language": "python",
   "name": "python36964bitfed35cf2f56141d9bd8c19dabbbd121d"
  },
  "language_info": {
   "codemirror_mode": {
    "name": "ipython",
    "version": 3
   },
   "file_extension": ".py",
   "mimetype": "text/x-python",
   "name": "python",
   "nbconvert_exporter": "python",
   "pygments_lexer": "ipython3",
   "version": "3.6.9"
  }
 },
 "nbformat": 4,
 "nbformat_minor": 4
}
